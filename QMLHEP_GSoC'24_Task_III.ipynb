{
  "nbformat": 4,
  "nbformat_minor": 0,
  "metadata": {
    "colab": {
      "provenance": [],
      "authorship_tag": "ABX9TyNHaT9hXoac5RohcIL32Brf",
      "include_colab_link": true
    },
    "kernelspec": {
      "name": "python3",
      "display_name": "Python 3"
    },
    "language_info": {
      "name": "python"
    }
  },
  "cells": [
    {
      "cell_type": "markdown",
      "metadata": {
        "id": "view-in-github",
        "colab_type": "text"
      },
      "source": [
        "<a href=\"https://colab.research.google.com/github/Userfound404/GSoC-QMLHEP-Tasks/blob/main/QMLHEP_GSoC'24_Task_III.ipynb\" target=\"_parent\"><img src=\"https://colab.research.google.com/assets/colab-badge.svg\" alt=\"Open In Colab\"/></a>"
      ]
    },
    {
      "cell_type": "markdown",
      "source": [
        "# Task III: Open Task\n",
        "Please comment on quantum computing or quantum machine learning. You can also comment on one quantum algorithm or one quantum software you are familiar with. You can also suggest methods you think are good and you would like to work on.\n"
      ],
      "metadata": {
        "id": "VzSvK1et37iO"
      }
    },
    {
      "cell_type": "markdown",
      "source": [
        "Quantum Approximate Optimization Algorithm(QAOA) ia a quantum algorithm that solves combinatorial optimization problems. I work closely with businesses locally to grow their presence online, while working with them I've found so much inefficiency in transport and logistics, especially here in India. There was this one agri based brand that move perishible food items and just a little inefficiency in routes, traffic evaluation can cause losses.\n",
        "This gave me an idea to work on optimizing these routes for efficient logistics.\n",
        "\n",
        "Firstly let me briefly explain QAOA. QAOA usually begins with encoding the optimization problem into a Hamiltonian (A mathematical representation of a problem). This hamiltonian encodes both the objective function that has to be optimized and also the constraints in the problem. We use a parameterized circuit containing two types of gates, mixer and driver gates. QAOA applies a sequence of alternating gates and adjusts the parameters of the gates to explore the solution space. The idea is to repeatedly apply these gates and adjust the parameters until we find a good approximation to the optimal solution.\n",
        "Finally we can measure the bitstrings to evaluate the objective function and identify the best solution.\n",
        "\n",
        "We'll look at\n",
        "1. vehicle routing\n",
        "By identifying delivery vehicles' nearly-optimal routes and reducing their overall journey time, distance, or expense, QAOA can be utilized to optimize vehicle routing issues.\n",
        "In order to provide solutions that balance several limitations including vehicle capacity, time windows, and traffic circumstances, it may effectively explore the large solution space of potential routes and vehicle assignments.\n",
        "Complex routing scenarios with several cars, depots, and hundreds or thousands of delivery sites are difficult for traditional optimization algorithms to solve well. QAOA can manage these situations.\n",
        "\n",
        "\n",
        "2. Inventory Management:\n",
        "In order to save expenses and guarantee sufficient stock availability, QAOA can optimize inventory management by identifying the best reorder points, reorder quantities, and inventory levels.\n",
        "It can identify near-optimal solutions by balancing inventory holding costs, stockout costs, and demand variability by modifying parameters in the quantum circuit. It can treat inventory management problems as combinatorial optimization jobs.\n",
        "With its capacity to manage inventory in scenarios with numerous items, suppliers, and stochastic demand patterns, QAOA can offer valuable insights into inventory policies that optimize both customer satisfaction and profitability.\n",
        "\n",
        "3. Supply Chain Optimization:\n",
        "In order to reduce expenses and increase efficiency, QAOA can optimize supply chain operations by coordinating the movement of commodities, information, and funds throughout the supply chain network.\n",
        "It may balance competing goals like transportation costs, inventory holding costs, and production capacity by varying parameters in the quantum circuit to find near-optimal solutions to supply chain optimization problems, which are modeled as combinatorial optimization tasks.\n",
        "In order to provide insights into supply chain configurations that improve resilience and responsiveness, QAOA can handle supply chain optimization scenarios including many manufacturers, suppliers, distributors, and retailers.\n",
        "\n",
        "The potential this idea if we have a scalable solution is great. I'll be working on for the next few months and potentially turn it into a very viable business in the future.\n",
        "Though we have been reading quite a bit about quantum computing in research, my mind always goes to the commercial viability of the quantum advantage. I would love to build a start-up that uses quantum computing to solve real life problems.\n",
        "\n",
        "I'm very familier with Qiskit and pennylane, mainly because I learned most of quantum computing on IBM Qiskit summer school.\n"
      ],
      "metadata": {
        "id": "02GQ7OHHWfZ7"
      }
    },
    {
      "cell_type": "code",
      "execution_count": null,
      "metadata": {
        "id": "5d72RtouWdxK"
      },
      "outputs": [],
      "source": []
    }
  ]
}