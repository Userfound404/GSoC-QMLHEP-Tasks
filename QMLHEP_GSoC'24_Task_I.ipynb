{
  "nbformat": 4,
  "nbformat_minor": 0,
  "metadata": {
    "colab": {
      "provenance": [],
      "authorship_tag": "ABX9TyPqPL1C5fqcsQn+LMuUi3AG",
      "include_colab_link": true
    },
    "kernelspec": {
      "name": "python3",
      "display_name": "Python 3"
    },
    "language_info": {
      "name": "python"
    }
  },
  "cells": [
    {
      "cell_type": "markdown",
      "metadata": {
        "id": "view-in-github",
        "colab_type": "text"
      },
      "source": [
        "<a href=\"https://colab.research.google.com/github/Userfound404/GSoC-QMLHEP-Tasks/blob/main/QMLHEP_GSoC'24_Task_I.ipynb\" target=\"_parent\"><img src=\"https://colab.research.google.com/assets/colab-badge.svg\" alt=\"Open In Colab\"/></a>"
      ]
    },
    {
      "cell_type": "markdown",
      "source": [
        "#Task 1\n",
        "\n",
        "This is pretty straight forward task\n",
        "\n",
        "1) implement a simple quantum operation with Cirq or Pennylane\n",
        "- With 5 qubits\n",
        "- Apply Hadamard operation on every qubit\n",
        "- Apply CNOT operation on (0, 1), (1,2), (2,3), (3,4)\n",
        "- SWAP (0, 4)\n",
        "- Rotate X with pi/2 on any qubit\n",
        "- Plot the circuit\n"
      ],
      "metadata": {
        "id": "YNCpZex4ihuc"
      }
    },
    {
      "cell_type": "code",
      "source": [
        "!pip install cirq pennylane pennylane-cirq"
      ],
      "metadata": {
        "id": "TKwjkc9WkoqD"
      },
      "execution_count": null,
      "outputs": []
    },
    {
      "cell_type": "code",
      "execution_count": null,
      "metadata": {
        "colab": {
          "base_uri": "https://localhost:8080/"
        },
        "id": "xOpzHSgqkfUe",
        "outputId": "cc1bce3b-9229-4e26-c5c6-20227de984c7"
      },
      "outputs": [
        {
          "output_type": "stream",
          "name": "stdout",
          "text": [
            "0: ───H───@──────────────────────×───\n",
            "          │                      │\n",
            "1: ───H───X───@──────────────────┼───\n",
            "              │                  │\n",
            "2: ───H───────X───@───Rx(0.5π)───┼───\n",
            "                  │              │\n",
            "3: ───H───────────X───@──────────┼───\n",
            "                      │          │\n",
            "4: ───H───────────────X──────────×───\n"
          ]
        }
      ],
      "source": [
        "import cirq\n",
        "import numpy as np\n",
        "qubits = cirq.LineQubit.range(5)\n",
        "\n",
        "circuit = cirq.Circuit()\n",
        "circuit.append(cirq.H.on_each(*qubits))  # Apply Hadamard to all qubits\n",
        "\n",
        "for i in range(4):\n",
        "    circuit.append(cirq.CNOT(qubits[i], qubits[i+1]))\n",
        "\n",
        "\n",
        "circuit.append(cirq.SWAP(qubits[0], qubits[4]))\n",
        "\n",
        "circuit.append(cirq.rx(np.pi / 2)(qubits[2]))  # Rotate qubit 2\n",
        "print(circuit)\n"
      ]
    },
    {
      "cell_type": "markdown",
      "source": [
        "2) Implement a second circuit with a framework of your choice:\n",
        "- Apply a Hadmard gate to the first qubit\n",
        "- rotate the second qubit by pi/3 around X\n",
        "- Apply Hadamard gate to the third and fourth qubit\n",
        "- Perform a swap test between the states of the first and second qubit |q1 q2>\n",
        "- and the third and fourth qubit |q3 q4>\n"
      ],
      "metadata": {
        "id": "LMDOn32ni0lD"
      }
    },
    {
      "cell_type": "code",
      "source": [
        "qubits = cirq.LineQubit.range(4)\n",
        "circuit = cirq.Circuit()\n",
        "\n",
        "# Hadamard on the first qubit\n",
        "circuit.append(cirq.H(qubits[0]))\n",
        "\n",
        "# Rotation on second qubit\n",
        "circuit.append(cirq.rx(np.pi / 3)(qubits[1]))\n",
        "\n",
        "# Hadamard on third and fourth qubit\n",
        "circuit.append(cirq.H(qubits[2]))\n",
        "circuit.append(cirq.H(qubits[3]))\n",
        "\n",
        "# Swap test\n",
        "circuit.append(cirq.CNOT(qubits[0], qubits[2]))\n",
        "circuit.append(cirq.CNOT(qubits[1], qubits[3]))\n",
        "circuit.append(cirq.H(qubits[0]))\n",
        "circuit.append(cirq.H(qubits[1]))\n",
        "circuit.append(cirq.measure(qubits[0], qubits[1]))  # Measurement\n",
        "\n",
        "# Print the circuit\n",
        "print(circuit)\n"
      ],
      "metadata": {
        "colab": {
          "base_uri": "https://localhost:8080/"
        },
        "id": "nZKwYumAlAa7",
        "outputId": "01de71f5-8d11-4efd-8b12-5821187317bd"
      },
      "execution_count": null,
      "outputs": [
        {
          "output_type": "stream",
          "name": "stdout",
          "text": [
            "                   ┌──┐\n",
            "0: ───H─────────────@─────H───M───\n",
            "                    │         │\n",
            "1: ───Rx(0.333π)────┼@────H───M───\n",
            "                    ││\n",
            "2: ───H─────────────X┼────────────\n",
            "                     │\n",
            "3: ───H──────────────X────────────\n",
            "                   └──┘\n"
          ]
        }
      ]
    },
    {
      "cell_type": "code",
      "source": [],
      "metadata": {
        "id": "2uUa0ksWltzq"
      },
      "execution_count": null,
      "outputs": []
    }
  ]
}